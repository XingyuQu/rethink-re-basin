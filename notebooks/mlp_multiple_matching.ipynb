{
 "cells": [
  {
   "cell_type": "markdown",
   "metadata": {},
   "source": [
    "This notebook provides example for multuple matching on MLP + MNIST. Two multuple matching methods are provided: (1) Reference matching, and (2) Sequential matching.\n",
    "\n",
    "Multiple activation matching can be performed by replacing the weight matching function with the activation matching function. The usage of activation matching is shown in matching.ipynb."
   ]
  },
  {
   "cell_type": "code",
   "execution_count": 1,
   "metadata": {},
   "outputs": [],
   "source": [
    "import sys\n",
    "sys.path.append(\"..\")"
   ]
  },
  {
   "cell_type": "code",
   "execution_count": 2,
   "metadata": {},
   "outputs": [],
   "source": [
    "import torch\n",
    "import torch.nn as nn\n",
    "from source.utils.data_funcs import load_data\n",
    "from source.utils.weight_matching import PermutationSpec, permutation_spec_from_axes_to_perm, get_wm_perm, apply_permutation\n",
    "from source.utils.connect import interpolate_multi_state_dicts\n",
    "from source.utils.logger import Logger\n",
    "from torch.utils.data import DataLoader\n",
    "from source.utils.train import train, validate\n",
    "import matplotlib.pyplot as plt\n",
    "from copy import deepcopy"
   ]
  },
  {
   "cell_type": "code",
   "execution_count": 3,
   "metadata": {},
   "outputs": [],
   "source": [
    "class MLP(nn.Module):\n",
    "    def __init__(self, in_channels=1, use_bias=True, num_classes=10):\n",
    "        super().__init__()\n",
    "        self.fc0 = nn.Linear(in_channels*28*28, 120, bias=use_bias)\n",
    "        self.relu0 = nn.ReLU()\n",
    "        self.fc1 = nn.Linear(120, 84, bias=use_bias)\n",
    "        self.relu1 = nn.ReLU()\n",
    "        self.fc2 = nn.Linear(84, num_classes, bias=use_bias)\n",
    "    def forward(self, input):\n",
    "        out = input.view(input.size(0), -1)\n",
    "        out = self.fc0(out)\n",
    "        out = self.relu0(out)\n",
    "        out = self.fc1(out)\n",
    "        out = self.relu1(out)\n",
    "        out = self.fc2(out)\n",
    "        return out"
   ]
  },
  {
   "cell_type": "code",
   "execution_count": 4,
   "metadata": {},
   "outputs": [],
   "source": [
    "def mlp_permutation_spec(num_hidden_layers: int, bias=True) -> PermutationSpec:\n",
    "    \"\"\"We assume that one permutation cannot appear in two axes of the same\n",
    "    weight array.\"\"\"\n",
    "    assert num_hidden_layers >= 1\n",
    "    if bias:\n",
    "        bias_hidden = {f\"fc{i}.bias\": (f\"P_{i}\", )\n",
    "                       for i in range(num_hidden_layers)}\n",
    "        bias_last = {f\"fc{num_hidden_layers}.bias\": (None, )}\n",
    "    else:\n",
    "        bias_hidden, bias_last = {}, {}\n",
    "\n",
    "    return permutation_spec_from_axes_to_perm({\n",
    "        \"fc0.weight\": (\"P_0\", None),\n",
    "        **{f\"fc{i}.weight\": (f\"P_{i}\", f\"P_{i-1}\")\n",
    "           for i in range(1, num_hidden_layers)},\n",
    "        **bias_hidden,\n",
    "        f\"fc{num_hidden_layers}.weight\": (None, f\"P_{num_hidden_layers-1}\"),\n",
    "        **bias_last,\n",
    "    })"
   ]
  },
  {
   "cell_type": "code",
   "execution_count": 5,
   "metadata": {},
   "outputs": [],
   "source": [
    "class config:\n",
    "    model = 'mlp'\n",
    "    dataset = 'mnist'\n",
    "    data_dir = '../../Linear_Mode_Connectivity/data'\n",
    "    print_freq = 100\n",
    "    n = 11 # number of points on the line\n"
   ]
  },
  {
   "cell_type": "code",
   "execution_count": 6,
   "metadata": {},
   "outputs": [],
   "source": [
    "# necessary to create logger if using the train/validate/eval_line etc. functions\n",
    "Logger.setup_logging()\n",
    "logger = Logger()\n",
    "\n",
    "trainset, testset = load_data(config.data_dir, config.dataset)\n",
    "trainloader = DataLoader(trainset, batch_size=128, shuffle=True)\n",
    "testloader = DataLoader(testset, batch_size=256, shuffle=False)\n",
    "\n",
    "trainset_noaug, _ = load_data(config.data_dir, config.dataset, no_random_aug=True)\n",
    "trainloader_noaug = DataLoader(trainset_noaug, batch_size=128, shuffle=True)\n",
    "\n",
    "device = torch.device('cuda:0' if torch.cuda.is_available() else 'cpu')\n",
    "criterion = torch.nn.CrossEntropyLoss()"
   ]
  },
  {
   "cell_type": "code",
   "execution_count": 7,
   "metadata": {},
   "outputs": [],
   "source": [
    "use_bias = True\n",
    "num_classes = 10\n",
    "num = 8\n",
    "model_s = [MLP(use_bias, num_classes).to(device) for _ in range(num)]\n",
    "optimizer_s = [torch.optim.SGD(model.parameters(), lr=0.1, momentum=0.9, weight_decay=1e-3) for model in model_s]"
   ]
  },
  {
   "cell_type": "markdown",
   "metadata": {},
   "source": [
    "Training"
   ]
  },
  {
   "cell_type": "code",
   "execution_count": null,
   "metadata": {},
   "outputs": [],
   "source": [
    "loss_s = [[] for _ in range(num)]\n",
    "acc_s = [[] for _ in range(num)]\n",
    "for epoch in range(5):\n",
    "    for i, model in enumerate(model_s):\n",
    "        loss, acc, _, _ = train(trainloader, model, criterion, optimizer_s[i], epoch, device, config)\n",
    "        loss_s[i].append(loss)\n",
    "        acc_s[i].append(acc)"
   ]
  },
  {
   "cell_type": "markdown",
   "metadata": {},
   "source": [
    "Matching"
   ]
  },
  {
   "cell_type": "code",
   "execution_count": 15,
   "metadata": {},
   "outputs": [],
   "source": [
    "res_dict = {'ori': {}, 'ref': {}, 'seq': {}}"
   ]
  },
  {
   "cell_type": "code",
   "execution_count": null,
   "metadata": {},
   "outputs": [],
   "source": [
    "sd_s = [model.state_dict() for model in model_s]\n",
    "ps = mlp_permutation_spec(2, use_bias)\n",
    "perm_wm_s = [get_wm_perm(ps, sd_s[0], sd_s[i], device=device) for i in range(1, num)]\n",
    "sd_wm_s = [apply_permutation(ps, perm_wm_s[i-1], sd_s[i], device) for i in range(1, num)]\n",
    "\n",
    "sd_mid_s = [interpolate_multi_state_dicts(sd_s[:num], [1/num] * num) for num in range(1, 9)]\n",
    "model_mid = MLP(use_bias, num_classes).to(device)\n",
    "\n",
    "test_acc_s = []\n",
    "\n",
    "for i in range(num):\n",
    "    model_mid.load_state_dict(sd_mid_s[i])\n",
    "    _, test_acc, _, _ = validate(testloader, model_mid, criterion, device, config)\n",
    "    test_acc_s.append(test_acc)"
   ]
  },
  {
   "cell_type": "code",
   "execution_count": 17,
   "metadata": {},
   "outputs": [],
   "source": [
    "res_dict['ori']['test_acc'] = deepcopy(test_acc_s)"
   ]
  },
  {
   "cell_type": "code",
   "execution_count": null,
   "metadata": {},
   "outputs": [],
   "source": [
    "sd_mid_s = [interpolate_multi_state_dicts([sd_s[0]] + sd_wm_s[:num-1], [1/num] * num) for num in range(1, 9)]\n",
    "\n",
    "test_acc_s = []\n",
    "\n",
    "for i in range(num):\n",
    "    model_mid.load_state_dict(sd_mid_s[i])\n",
    "    _, test_acc, _, _ = validate(testloader, model_mid, criterion, device, config)\n",
    "    test_acc_s.append(test_acc)"
   ]
  },
  {
   "cell_type": "code",
   "execution_count": 36,
   "metadata": {},
   "outputs": [],
   "source": [
    "res_dict['ref']['test_acc'] = test_acc_s"
   ]
  },
  {
   "cell_type": "code",
   "execution_count": null,
   "metadata": {},
   "outputs": [],
   "source": [
    "perm_wm_s = [get_wm_perm(ps, sd_s[0], sd_s[i], device=device) for i in range(1, num)]\n",
    "sd_wm_s = [apply_permutation(ps, perm_wm_s[i-1], sd_s[i], device) for i in range(1, num)]\n",
    "\n",
    "sd_wm_mid_s = [interpolate_multi_state_dicts([sd_s[0]] + sd_wm_s[:num-1], [1/num] * num) for num in range(1, 9)]\n",
    "\n",
    "test_acc_s = []\n",
    "\n",
    "for i in range(num):\n",
    "    model_mid.load_state_dict(sd_wm_mid_s[i])\n",
    "    _, test_acc, _, _ = validate(testloader, model_mid, criterion, device, config)\n",
    "    test_acc_s.append(test_acc)"
   ]
  },
  {
   "cell_type": "code",
   "execution_count": 40,
   "metadata": {},
   "outputs": [],
   "source": [
    "res_dict['seq']['test_acc'] = test_acc_s"
   ]
  },
  {
   "cell_type": "code",
   "execution_count": 44,
   "metadata": {},
   "outputs": [
    {
     "data": {
      "text/plain": [
       "<matplotlib.legend.Legend at 0x2427787ebe0>"
      ]
     },
     "execution_count": 44,
     "metadata": {},
     "output_type": "execute_result"
    },
    {
     "data": {
      "image/png": "[encoded data removed]",
      "text/plain": [
       "<Figure size 640x480 with 1 Axes>"
      ]
     },
     "metadata": {},
     "output_type": "display_data"
    }
   ],
   "source": [
    "plt.rcParams.update({'font.size': 12})\n",
    "\n",
    "x_axis = list(range(1, 9))\n",
    "plt.plot(x_axis, res_dict['ori']['test_acc'], label='W/o Matching', marker='o')\n",
    "plt.plot(x_axis, res_dict['ref']['test_acc'], label='Reference WM', marker='o')\n",
    "plt.plot(x_axis, res_dict['seq']['test_acc'], label='Sequential WM', marker='o')\n",
    "plt.title('Multiple Matching (MLP + MNIST)')\n",
    "plt.ylabel('Test Accuracy (%)')\n",
    "plt.xlabel('Number of Models')\n",
    "plt.ylim(0, 102)\n",
    "plt.legend()"
   ]
  }
 ],
 "metadata": {
  "kernelspec": {
   "display_name": "base",
   "language": "python",
   "name": "python3"
  },
  "language_info": {
   "codemirror_mode": {
    "name": "ipython",
    "version": 3
   },
   "file_extension": ".py",
   "mimetype": "text/x-python",
   "name": "python",
   "nbconvert_exporter": "python",
   "pygments_lexer": "ipython3",
   "version": "3.9.13"
  }
 },
 "nbformat": 4,
 "nbformat_minor": 2
}
