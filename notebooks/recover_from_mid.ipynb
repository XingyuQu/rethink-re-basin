{
 "cells": [
  {
   "cell_type": "markdown",
   "metadata": {},
   "source": [
    "This notebook provides an example of retraining from the mipoint model to measure how much information is stored there after the interpolation."
   ]
  },
  {
   "cell_type": "code",
   "execution_count": 1,
   "metadata": {},
   "outputs": [],
   "source": [
    "import sys\n",
    "sys.path.append(\"..\")"
   ]
  },
  {
   "cell_type": "code",
   "execution_count": 10,
   "metadata": {},
   "outputs": [],
   "source": [
    "import torch\n",
    "from source.utils.utils import load_model\n",
    "from source.utils.data_funcs import load_data\n",
    "from source.utils.weight_matching import weight_matching\n",
    "from source.utils.activation_matching import activation_matching\n",
    "from source.utils.connect import interpolate_state_dicts\n",
    "from source.utils.logger import Logger\n",
    "from torch.utils.data import DataLoader\n",
    "from source.utils.train import validate\n",
    "import matplotlib.pyplot as plt\n",
    "from copy import deepcopy"
   ]
  },
  {
   "cell_type": "code",
   "execution_count": 3,
   "metadata": {},
   "outputs": [],
   "source": [
    "class config:\n",
    "    model = 'cifar_vgg16'\n",
    "    dataset = 'cifar10'\n",
    "    special_init = 'vgg_init' # 'vgg_init' (kaiming init) or None (uniform init)\n",
    "    print_freq = 100\n",
    "    data_dir = '../../Linear_Mode_Connectivity/data'\n",
    "    n = 3 # number of interpolation points"
   ]
  },
  {
   "cell_type": "code",
   "execution_count": 4,
   "metadata": {},
   "outputs": [
    {
     "name": "stdout",
     "output_type": "stream",
     "text": [
      "Files already downloaded and verified\n",
      "Files already downloaded and verified\n",
      "Files already downloaded and verified\n",
      "Files already downloaded and verified\n"
     ]
    }
   ],
   "source": [
    "# necessary to create logger if using the train/validate/eval_line etc. functions\n",
    "Logger.setup_logging()\n",
    "logger = Logger()\n",
    "\n",
    "trainset, testset = load_data(config.data_dir, config.dataset)\n",
    "trainloader = DataLoader(trainset, batch_size=128, shuffle=True)\n",
    "testloader = DataLoader(testset, batch_size=256, shuffle=False)\n",
    "\n",
    "trainset_noaug, _ = load_data(config.data_dir, config.dataset, no_random_aug=True)\n",
    "trainloader_noaug = DataLoader(trainset_noaug, batch_size=128, shuffle=True)\n",
    "\n",
    "device = torch.device('cuda:0' if torch.cuda.is_available() else 'cpu')\n",
    "criterion = torch.nn.CrossEntropyLoss()"
   ]
  },
  {
   "cell_type": "code",
   "execution_count": 5,
   "metadata": {},
   "outputs": [
    {
     "data": {
      "text/plain": [
       "<All keys matched successfully>"
      ]
     },
     "execution_count": 5,
     "metadata": {},
     "output_type": "execute_result"
    }
   ],
   "source": [
    "model_1, model_2 = load_model(config).to(device), load_model(config).to(device)\n",
    "\n",
    "sd_1 = torch.load(f'../../Linear_Mode_Connectivity/same_init_ex/{config.dataset}/{config.model}/diff_init/seed_20/model_1_160.pt', map_location=device)\n",
    "sd_2 = torch.load(f'../../Linear_Mode_Connectivity/same_init_ex/{config.dataset}/{config.model}/diff_init/seed_20/model_2_160.pt', map_location=device)\n",
    "\n",
    "model_1.load_state_dict(sd_1)\n",
    "model_2.load_state_dict(sd_2)"
   ]
  },
  {
   "cell_type": "markdown",
   "metadata": {},
   "source": [
    "Matching"
   ]
  },
  {
   "cell_type": "code",
   "execution_count": null,
   "metadata": {},
   "outputs": [],
   "source": [
    "sd_2_wm, _ = weight_matching(config.model, sd_1, sd_2, device=device)\n",
    "sd_2_am, _ = activation_matching(config.model, model_1, model_2, trainloader_noaug, 100, device) # no obvious difference found between trainloader and trainloader_noaug"
   ]
  },
  {
   "cell_type": "code",
   "execution_count": 7,
   "metadata": {},
   "outputs": [
    {
     "data": {
      "text/plain": [
       "<All keys matched successfully>"
      ]
     },
     "execution_count": 7,
     "metadata": {},
     "output_type": "execute_result"
    }
   ],
   "source": [
    "sd_mid = interpolate_state_dicts(sd_1, sd_2, 0.5)\n",
    "sd_wm_mid = interpolate_state_dicts(sd_1, sd_2_wm, 0.5)\n",
    "sd_am_mid = interpolate_state_dicts(sd_1, sd_2_am, 0.5)\n",
    "model_mid = load_model(config).to(device)\n",
    "model_wm_mid = load_model(config).to(device)\n",
    "model_am_mid = load_model(config).to(device)\n",
    "model_mid.load_state_dict(sd_mid)\n",
    "model_wm_mid.load_state_dict(sd_wm_mid)\n",
    "model_am_mid.load_state_dict(sd_am_mid)"
   ]
  },
  {
   "cell_type": "markdown",
   "metadata": {},
   "source": [
    "Retraining the midpoint model"
   ]
  },
  {
   "cell_type": "code",
   "execution_count": 11,
   "metadata": {},
   "outputs": [],
   "source": [
    "acc_threshold = 90\n",
    "\n",
    "model_wm_mid_ft = deepcopy(model_wm_mid)\n",
    "model_am_mid_ft = deepcopy(model_am_mid)\n",
    "\n",
    "optimizer_wm_ft = torch.optim.SGD(model_wm_mid_ft.parameters(), lr=0.01, momentum=0.9, weight_decay=1e-4)\n",
    "optimizer_am_ft = torch.optim.SGD(model_am_mid_ft.parameters(), lr=0.01, momentum=0.9, weight_decay=1e-4)"
   ]
  },
  {
   "cell_type": "code",
   "execution_count": null,
   "metadata": {},
   "outputs": [],
   "source": [
    "acc_train = [[], []]\n",
    "acc_test = [[], []]\n",
    "loss_train = [[], []]\n",
    "loss_test = [[], []]\n",
    "x_axis = []\n",
    "\n",
    "for i, model in enumerate([model_wm_mid, model_am_mid]):\n",
    "    loss, acc, _, _ = validate(trainloader_noaug, model, criterion, device, config)\n",
    "    acc_train[i].append(acc)\n",
    "    loss_train[i].append(loss)\n",
    "    loss, acc, _, _ = validate(testloader, model, criterion, device, config)\n",
    "    acc_test[i].append(acc)\n",
    "    loss_test[i].append(loss)\n",
    "x_axis.append(0)\n",
    "\n",
    "for epoch in range(10):\n",
    "    for iter, (data, target) in enumerate(trainloader):\n",
    "        data, target = data.to(device), target.to(device)\n",
    "        for model, optimizer in zip([model_wm_mid_ft, model_am_mid_ft], [optimizer_wm_ft, optimizer_am_ft]):\n",
    "            output = model(data)\n",
    "            loss = criterion(output, target)\n",
    "            optimizer.zero_grad()\n",
    "            loss.backward()\n",
    "            optimizer.step()\n",
    "        # iter mode\n",
    "        if (iter+1) % 10 == 0 or (iter+1)==len(trainloader):\n",
    "            for i, model in enumerate([model_wm_mid_ft, model_am_mid_ft]):\n",
    "                loss, acc, _, _ = validate(trainloader_noaug, model, criterion, device, config)\n",
    "                acc_train[i].append(acc)\n",
    "                loss_train[i].append(loss)\n",
    "                loss, acc, _, _ = validate(testloader, model, criterion, device, config)\n",
    "                acc_test[i].append(acc)\n",
    "                loss_test[i].append(loss)\n",
    "            x_axis.append(iter+1)\n",
    "            if acc_train[0][-1] >= 90 and acc_train[1][-1] >= 90:\n",
    "                break"
   ]
  },
  {
   "cell_type": "code",
   "execution_count": 13,
   "metadata": {},
   "outputs": [],
   "source": [
    "acc_train_ori = [[], []]\n",
    "acc_test_ori = [[], []]\n",
    "loss_train_ori = [[], []]\n",
    "loss_test_ori = [[], []]\n",
    "iter_ori = [[], []]"
   ]
  },
  {
   "cell_type": "code",
   "execution_count": 14,
   "metadata": {},
   "outputs": [],
   "source": [
    "model_init_ft = load_model(config).to(device)\n",
    "optimizer_init_ft = torch.optim.SGD(model_init_ft.parameters(), lr=0.01, momentum=0.9, weight_decay=1e-4)\n",
    "\n",
    "model_mid_ft = deepcopy(model_mid)\n",
    "optimizer_mid_ft = torch.optim.SGD(model_mid_ft.parameters(), lr=0.01, momentum=0.9, weight_decay=1e-4)"
   ]
  },
  {
   "cell_type": "code",
   "execution_count": null,
   "metadata": {},
   "outputs": [],
   "source": [
    "for i, model in enumerate([model_mid_ft, model_init_ft]):\n",
    "    loss, acc, _, _ = validate(trainloader_noaug, model, criterion, device, config)\n",
    "    acc_train_ori[i].append(acc)\n",
    "    loss_train_ori[i].append(loss)\n",
    "    loss, acc, _, _ = validate(testloader, model, criterion, device, config)\n",
    "    acc_test_ori[i].append(acc)\n",
    "    loss_test_ori[i].append(loss)\n",
    "iter_ori[0].append(0)\n",
    "iter_ori[1].append(0)"
   ]
  },
  {
   "cell_type": "code",
   "execution_count": null,
   "metadata": {},
   "outputs": [],
   "source": [
    "for epoch in range(15):\n",
    "    print(f'Epoch {epoch+1}')\n",
    "    for iter, (data, target) in enumerate(trainloader):\n",
    "        data, target = data.to(device), target.to(device)\n",
    "        for model, optimizer in zip([model_mid_ft, model_init_ft], [optimizer_mid_ft, optimizer_init_ft]):\n",
    "            output = model(data)\n",
    "            loss = criterion(output, target)\n",
    "            optimizer.zero_grad()\n",
    "            loss.backward()\n",
    "            optimizer.step()\n",
    "        if (iter+1)==len(trainloader):\n",
    "                for i, model in enumerate([model_mid_ft, model_init_ft]):\n",
    "                    loss, acc, _, _ = validate(trainloader_noaug, model, criterion, device, config)\n",
    "                    acc_train_ori[i].append(acc)\n",
    "                    loss_train_ori[i].append(loss)\n",
    "                    loss, acc, _, _ = validate(testloader, model, criterion, device, config)\n",
    "                    acc_test_ori[i].append(acc)\n",
    "                    loss_test_ori[i].append(loss)\n",
    "                iter_ori[0].append(iter+1+391*(epoch+1))\n",
    "                iter_ori[1].append(iter+1+391*(epoch+1))\n",
    "        if acc_train_ori[0][-1] >= acc_threshold and acc_train_ori[1][-1] >= acc_threshold:\n",
    "            break"
   ]
  },
  {
   "cell_type": "code",
   "execution_count": 17,
   "metadata": {},
   "outputs": [],
   "source": [
    "i_s = []\n",
    "for acc_record in [acc_train[0], acc_train[1], acc_train_ori[0], acc_train_ori[1]]:\n",
    "    i = 0\n",
    "    while i < len(acc_record)-1 and acc_record[i] < acc_threshold:\n",
    "        i += 1\n",
    "    i_s.append(i)"
   ]
  },
  {
   "cell_type": "code",
   "execution_count": 18,
   "metadata": {},
   "outputs": [],
   "source": [
    "acc_train_plot = [acc_train[0][:i_s[0]+1], acc_train[1][:i_s[1]+1]]\n",
    "acc_test_plot = [acc_test[0][:i_s[0]+1], acc_test[1][:i_s[1]+1]]\n",
    "loss_train_plot = [loss_train[0][:i_s[0]+1], loss_train[1][:i_s[1]+1]]\n",
    "loss_test_plot = [loss_test[0][:i_s[0]+1], loss_test[1][:i_s[1]+1]]\n",
    "\n",
    "acc_train_ori_plot = [acc_train_ori[0][:i_s[2]+1], acc_train_ori[1][:i_s[3]+1]]\n",
    "acc_test_ori_plot = [acc_test_ori[0][:i_s[2]+1], acc_test_ori[1][:i_s[3]+1]]\n",
    "loss_train_ori_plot = [loss_train_ori[0][:i_s[2]+1], loss_train_ori[1][:i_s[3]+1]]\n",
    "loss_test_ori_plot = [loss_test_ori[0][:i_s[2]+1], loss_test_ori[1][:i_s[3]+1]]"
   ]
  },
  {
   "cell_type": "code",
   "execution_count": 22,
   "metadata": {},
   "outputs": [
    {
     "data": {
      "text/plain": [
       "<matplotlib.legend.Legend at 0x2e500085ca0>"
      ]
     },
     "execution_count": 22,
     "metadata": {},
     "output_type": "execute_result"
    },
    {
     "data": {
      "image/png": "[encoded data removed]",
      "text/plain": [
       "<Figure size 640x480 with 1 Axes>"
      ]
     },
     "metadata": {},
     "output_type": "display_data"
    }
   ],
   "source": [
    "plt.rcParams.update({'font.size': 12})\n",
    "\n",
    "plt.plot(iter_ori[0][:i_s[2]+1], acc_train_ori_plot[0], label='Mid Model', marker='s')\n",
    "plt.plot(iter_ori[1][:i_s[3]+1], acc_train_ori_plot[1], label='Random Initialization', marker='s', linestyle='--')\n",
    "plt.plot(x_axis[:i_s[0]+1], acc_train_plot[0], label='Mid Model (WM)', marker='o')\n",
    "plt.plot(x_axis[:i_s[1]+1], acc_train_plot[1], label='Mid Model (AM)', marker='^')\n",
    "\n",
    "plt.axhline(y=acc_threshold, color='r', linestyle=':', label=f'{acc_threshold}% Accuracy')\n",
    "plt.ylabel('Training Accuracy (%)')\n",
    "plt.ylim(0, 100)\n",
    "# plt.xlim(0, 1000)\n",
    "plt.xlabel('Training Iteration')\n",
    "plt.title('Recover from Midpoint')\n",
    "plt.legend()"
   ]
  }
 ],
 "metadata": {
  "kernelspec": {
   "display_name": "base",
   "language": "python",
   "name": "python3"
  },
  "language_info": {
   "codemirror_mode": {
    "name": "ipython",
    "version": 3
   },
   "file_extension": ".py",
   "mimetype": "text/x-python",
   "name": "python",
   "nbconvert_exporter": "python",
   "pygments_lexer": "ipython3",
   "version": "3.9.13"
  }
 },
 "nbformat": 4,
 "nbformat_minor": 2
}
