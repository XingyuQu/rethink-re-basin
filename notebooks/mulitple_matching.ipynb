{
 "cells": [
  {
   "cell_type": "markdown",
   "metadata": {},
   "source": [
    "This notebook provides example for multuple matching. Three multuple matching methods are provided: (1) Reference matching, (2) Sequential matching, and (3) Iterative matching.\n",
    "\n",
    "Multiple activation matching can be performed by replacing the weight matching function with the activation matching function. The usage of activation matching is shown in matching.ipynb."
   ]
  },
  {
   "cell_type": "code",
   "execution_count": 1,
   "metadata": {},
   "outputs": [],
   "source": [
    "import sys\n",
    "sys.path.append(\"..\")"
   ]
  },
  {
   "cell_type": "code",
   "execution_count": 2,
   "metadata": {},
   "outputs": [],
   "source": [
    "import torch\n",
    "from source.utils.utils import load_model\n",
    "from source.utils.data_funcs import load_data\n",
    "from source.utils.weight_matching import weight_matching\n",
    "from source.utils.connect import interpolate_multi_state_dicts, reset_bn_stats\n",
    "from source.utils.logger import Logger\n",
    "from torch.utils.data import DataLoader\n",
    "from source.utils.train import validate\n",
    "import numpy as np\n",
    "import matplotlib.pyplot as plt\n",
    "from copy import deepcopy"
   ]
  },
  {
   "cell_type": "code",
   "execution_count": 3,
   "metadata": {},
   "outputs": [],
   "source": [
    "class config:\n",
    "    model = 'cifar_vgg16_bn'\n",
    "    dataset = 'cifar10'\n",
    "    special_init = 'vgg_init' # 'vgg_init' (kaiming init) or None (uniform init)\n",
    "    print_freq = 100\n",
    "    data_dir = '../../Linear_Mode_Connectivity/data'"
   ]
  },
  {
   "cell_type": "code",
   "execution_count": 4,
   "metadata": {},
   "outputs": [
    {
     "name": "stdout",
     "output_type": "stream",
     "text": [
      "Files already downloaded and verified\n",
      "Files already downloaded and verified\n",
      "Files already downloaded and verified\n",
      "Files already downloaded and verified\n"
     ]
    }
   ],
   "source": [
    "# necessary to create logger if using the train/validate/eval_line etc. functions\n",
    "Logger.setup_logging()\n",
    "logger = Logger()\n",
    "\n",
    "trainset, testset = load_data(config.data_dir, config.dataset)\n",
    "trainloader = DataLoader(trainset, batch_size=128, shuffle=True)\n",
    "testloader = DataLoader(testset, batch_size=256, shuffle=False)\n",
    "\n",
    "trainset_noaug, _ = load_data(config.data_dir, config.dataset, no_random_aug=True)\n",
    "trainloader_noaug = DataLoader(trainset_noaug, batch_size=128, shuffle=True)\n",
    "\n",
    "device = torch.device('cuda:0' if torch.cuda.is_available() else 'cpu')\n",
    "criterion = torch.nn.CrossEntropyLoss()"
   ]
  },
  {
   "cell_type": "code",
   "execution_count": 5,
   "metadata": {},
   "outputs": [],
   "source": [
    "res_dict = {'ref': {}, 'seq': {}, 'iter': {}}\n",
    "reset = 'bn' in config.model or config.model == 'cifar_resnet20_4x'"
   ]
  },
  {
   "cell_type": "markdown",
   "metadata": {},
   "source": [
    "Reference matching"
   ]
  },
  {
   "cell_type": "code",
   "execution_count": 6,
   "metadata": {},
   "outputs": [],
   "source": [
    "num_model = 3\n",
    "idx_s = np.arange(num_model)\n",
    "path_s = [f'../../Linear_Mode_Connectivity/same_init_ex/{config.dataset}/{config.model}/diff_init/seed_10/model_1_160.pt',\n",
    "            f'../../Linear_Mode_Connectivity/same_init_ex/{config.dataset}/{config.model}/diff_init/seed_10/model_2_160.pt',\n",
    "            f'../../Linear_Mode_Connectivity/same_init_ex/{config.dataset}/{config.model}/diff_init/seed_20/model_1_160.pt']\n",
    "\n",
    "np.random.shuffle(idx_s)\n",
    "model_s = [load_model(config).to(device) for _ in range(num_model)]\n",
    "sd_s = []\n",
    "for i in range(num_model):\n",
    "    sd_s.append(torch.load(path_s[idx_s[i]], map_location=device))\n",
    "    model_s[i].load_state_dict(sd_s[i])"
   ]
  },
  {
   "cell_type": "code",
   "execution_count": null,
   "metadata": {},
   "outputs": [],
   "source": [
    "model_wm_s = [load_model(config).to(device) for _ in range(num_model)]\n",
    "sd_wm_s = [None] * num_model\n",
    "sd_wm_s[0] = sd_s[0]\n",
    "\n",
    "model_wm_s = [load_model(config).to(device) for _ in range(num_model)]\n",
    "sd_wm_s = [None] * num_model\n",
    "sd_wm_s[0] = sd_s[0]\n",
    "\n",
    "for i in range(1, num_model):\n",
    "    sd_wm, _ = weight_matching(config.model, sd_s[0], sd_s[i], device=device)\n",
    "    sd_wm_s[i] = sd_wm\n",
    "for i in range(num_model):\n",
    "    model_wm_s[i].load_state_dict(sd_wm_s[i])\n",
    "\n",
    "test_loss_wm_mid = []\n",
    "test_acc_wm_mid = []\n",
    "model_mid = load_model(config).to(device)\n",
    "for i in range(1, num_model+1):\n",
    "    sd_mid = interpolate_multi_state_dicts(sd_wm_s[:i], [1/i]*i)\n",
    "    model_mid.load_state_dict(sd_mid)\n",
    "    if reset:\n",
    "        reset_bn_stats(model_mid, device, trainloader)\n",
    "    test_loss, test_acc, _, _ = validate(testloader, model_mid, criterion, device, config)\n",
    "    test_loss_wm_mid.append(test_loss)\n",
    "    test_acc_wm_mid.append(test_acc)"
   ]
  },
  {
   "cell_type": "code",
   "execution_count": 8,
   "metadata": {},
   "outputs": [],
   "source": [
    "res_dict['ref']['test_loss'] = deepcopy(test_loss_wm_mid)\n",
    "res_dict['ref']['test_acc'] = deepcopy(test_acc_wm_mid)"
   ]
  },
  {
   "cell_type": "markdown",
   "metadata": {},
   "source": [
    "Sequential matching"
   ]
  },
  {
   "cell_type": "code",
   "execution_count": null,
   "metadata": {},
   "outputs": [],
   "source": [
    "np.random.shuffle(idx_s)\n",
    "sd_s = []\n",
    "for i in range(num_model):\n",
    "    sd_s.append(torch.load(path_s[idx_s[i]], map_location=device))\n",
    "    model_s[i].load_state_dict(sd_s[i])\n",
    "\n",
    "model_wm_s = [load_model(config).to(device) for _ in range(num_model)]\n",
    "sd_wm_s = [None] * num_model\n",
    "sd_wm_s[0] = sd_s[0]\n",
    "\n",
    "\n",
    "for i in range(1, num_model):\n",
    "    sd_wm, _ = weight_matching(config.model, sd_wm_s[i-1], sd_s[i], device=device)\n",
    "    sd_wm_s[i] = sd_wm\n",
    "for i in range(num_model):\n",
    "    model_wm_s[i].load_state_dict(sd_wm_s[i])\n",
    "\n",
    "test_loss_wm_mid = []\n",
    "test_acc_wm_mid = []\n",
    "model_mid = load_model(config).to(device)\n",
    "for i in range(1, num_model+1):\n",
    "    sd_mid = interpolate_multi_state_dicts(sd_wm_s[:i], [1/i]*i)\n",
    "    model_mid.load_state_dict(sd_mid)\n",
    "    if reset:\n",
    "        reset_bn_stats(model_mid, device, trainloader)\n",
    "    test_loss, test_acc, _, _ = validate(testloader, model_mid, criterion, device, config)\n",
    "    test_loss_wm_mid.append(test_loss)\n",
    "    test_acc_wm_mid.append(test_acc)"
   ]
  },
  {
   "cell_type": "code",
   "execution_count": 17,
   "metadata": {},
   "outputs": [],
   "source": [
    "res_dict['seq']['test_loss'] = deepcopy(test_loss_wm_mid)\n",
    "res_dict['seq']['test_acc'] = deepcopy(test_acc_wm_mid)"
   ]
  },
  {
   "cell_type": "markdown",
   "metadata": {},
   "source": [
    "Iterative matching"
   ]
  },
  {
   "cell_type": "code",
   "execution_count": 10,
   "metadata": {},
   "outputs": [],
   "source": [
    "def check_identity_perm(perm: dict):\n",
    "    for k, v in perm.items():\n",
    "        identity = torch.arange(v.shape[0])\n",
    "        if not torch.all(torch.eq(v.cpu(), identity)):\n",
    "            return False\n",
    "    return True"
   ]
  },
  {
   "cell_type": "code",
   "execution_count": 11,
   "metadata": {},
   "outputs": [],
   "source": [
    "np.random.shuffle(idx_s)\n",
    "sd_s = []\n",
    "for i in range(num_model):\n",
    "    sd_s.append(torch.load(path_s[idx_s[i]], map_location=device))\n",
    "    model_s[i].load_state_dict(sd_s[i])"
   ]
  },
  {
   "cell_type": "code",
   "execution_count": null,
   "metadata": {},
   "outputs": [],
   "source": [
    "test_loss_wm_mid = []\n",
    "test_acc_wm_mid = []\n",
    "for n in range(1, num_model+1):\n",
    "    sd_wm_s = [sd_s[i] for i in range(n)]\n",
    "    num_iters = 0\n",
    "    if n != 1:\n",
    "        while True:\n",
    "            flag = True\n",
    "            random_order = torch.randperm(n)\n",
    "            for i in random_order:\n",
    "                sd_rest = [sd_wm_s[j] for j in range(n) if j != i]\n",
    "                sd_ref = interpolate_multi_state_dicts(sd_rest, [1/(n-1)]*(n-1))\n",
    "                sd_wm, perm = weight_matching(config.model, sd_ref, sd_wm_s[i], device=device, return_perm=True)\n",
    "                return_identity = check_identity_perm(perm)\n",
    "                flag = flag and return_identity\n",
    "                sd_wm_s[i] = sd_wm\n",
    "            if flag:\n",
    "                break\n",
    "            num_iters += 1\n",
    "\n",
    "    model_mid = load_model(config).to(device)\n",
    "    sd_mid = interpolate_multi_state_dicts(sd_wm_s[:n], [1/n]*n)\n",
    "    model_mid.load_state_dict(sd_mid)\n",
    "    if reset:\n",
    "        reset_bn_stats(model_mid, device, trainloader)\n",
    "    test_loss, test_acc, _, _ = validate(testloader, model_mid, criterion, device, config)\n",
    "    test_loss_wm_mid.append(test_loss)\n",
    "    test_acc_wm_mid.append(test_acc)"
   ]
  },
  {
   "cell_type": "code",
   "execution_count": 13,
   "metadata": {},
   "outputs": [],
   "source": [
    "res_dict['iter']['test_loss'] = deepcopy(test_loss_wm_mid)\n",
    "res_dict['iter']['test_acc'] = deepcopy(test_acc_wm_mid)"
   ]
  },
  {
   "cell_type": "code",
   "execution_count": 20,
   "metadata": {},
   "outputs": [
    {
     "data": {
      "text/plain": [
       "<matplotlib.legend.Legend at 0x26742e19b20>"
      ]
     },
     "execution_count": 20,
     "metadata": {},
     "output_type": "execute_result"
    },
    {
     "data": {
      "image/png": "[encoded data removed]",
      "text/plain": [
       "<Figure size 640x480 with 1 Axes>"
      ]
     },
     "metadata": {},
     "output_type": "display_data"
    }
   ],
   "source": [
    "x_axis = list(range(1, num_model+1))\n",
    "\n",
    "plt.plot(x_axis, res_dict['ref']['test_acc'], label='Refrence Matching', marker='o')\n",
    "plt.plot(x_axis, res_dict['seq']['test_acc'], label='Sequential Matching', marker='o')\n",
    "plt.plot(x_axis, res_dict['iter']['test_acc'], label='Iterative Matching', marker='o')\n",
    "\n",
    "plt.title('Multiple Matching')\n",
    "plt.xlabel('Number of Models')\n",
    "plt.ylabel('Test Accuracy')\n",
    "plt.xticks(x_axis)\n",
    "plt.legend()"
   ]
  }
 ],
 "metadata": {
  "kernelspec": {
   "display_name": "base",
   "language": "python",
   "name": "python3"
  },
  "language_info": {
   "codemirror_mode": {
    "name": "ipython",
    "version": 3
   },
   "file_extension": ".py",
   "mimetype": "text/x-python",
   "name": "python",
   "nbconvert_exporter": "python",
   "pygments_lexer": "ipython3",
   "version": "3.9.13"
  }
 },
 "nbformat": 4,
 "nbformat_minor": 2
}
