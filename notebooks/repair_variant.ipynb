{
 "cells": [
  {
   "cell_type": "markdown",
   "metadata": {},
   "source": [
    "This notebook provides an example for the REPAIR ablation study and different variants, including the sequential REPAIR/RESCALE and the data-independent re-normalization."
   ]
  },
  {
   "cell_type": "code",
   "execution_count": 1,
   "metadata": {},
   "outputs": [],
   "source": [
    "import sys\n",
    "sys.path.append(\"..\")"
   ]
  },
  {
   "cell_type": "code",
   "execution_count": 7,
   "metadata": {},
   "outputs": [],
   "source": [
    "import torch\n",
    "from source.utils.utils import load_model\n",
    "from source.utils.data_funcs import load_data\n",
    "from source.utils.weight_matching import weight_matching\n",
    "from source.layers.batch_norm import bn_calibration_init\n",
    "from source.utils.connect import interpolate_state_dicts, repair, reset_bn_stats\n",
    "from source.utils.logger import Logger\n",
    "from torch.utils.data import DataLoader\n",
    "from source.utils.train import validate\n",
    "from copy import deepcopy"
   ]
  },
  {
   "cell_type": "code",
   "execution_count": 3,
   "metadata": {},
   "outputs": [],
   "source": [
    "class config:\n",
    "    model = 'cifar_vgg16'\n",
    "    dataset = 'cifar10'\n",
    "    special_init = 'vgg_init' # 'vgg_init' (kaiming init) or None (uniform init)\n",
    "    print_freq = 100\n",
    "    data_dir = '../../Linear_Mode_Connectivity/data'\n",
    "    n = 3 # number of interpolation points"
   ]
  },
  {
   "cell_type": "code",
   "execution_count": 4,
   "metadata": {},
   "outputs": [
    {
     "name": "stdout",
     "output_type": "stream",
     "text": [
      "Files already downloaded and verified\n",
      "Files already downloaded and verified\n",
      "Files already downloaded and verified\n",
      "Files already downloaded and verified\n"
     ]
    }
   ],
   "source": [
    "# necessary to create logger if using the train/validate/eval_line etc. functions\n",
    "Logger.setup_logging()\n",
    "logger = Logger()\n",
    "\n",
    "trainset, testset = load_data(config.data_dir, config.dataset)\n",
    "trainloader = DataLoader(trainset, batch_size=128, shuffle=True)\n",
    "testloader = DataLoader(testset, batch_size=256, shuffle=False)\n",
    "\n",
    "trainset_noaug, _ = load_data(config.data_dir, config.dataset, no_random_aug=True)\n",
    "trainloader_noaug = DataLoader(trainset_noaug, batch_size=128, shuffle=True)\n",
    "\n",
    "device = torch.device('cuda:0' if torch.cuda.is_available() else 'cpu')\n",
    "criterion = torch.nn.CrossEntropyLoss()"
   ]
  },
  {
   "cell_type": "code",
   "execution_count": 5,
   "metadata": {},
   "outputs": [
    {
     "data": {
      "text/plain": [
       "<All keys matched successfully>"
      ]
     },
     "execution_count": 5,
     "metadata": {},
     "output_type": "execute_result"
    }
   ],
   "source": [
    "model_1, model_2 = load_model(config).to(device), load_model(config).to(device)\n",
    "\n",
    "sd_1 = torch.load(f'../../Linear_Mode_Connectivity/same_init_ex/{config.dataset}/{config.model}/diff_init/seed_20/model_1_160.pt', map_location=device)\n",
    "sd_2 = torch.load(f'../../Linear_Mode_Connectivity/same_init_ex/{config.dataset}/{config.model}/diff_init/seed_20/model_2_160.pt', map_location=device)\n",
    "\n",
    "model_1.load_state_dict(sd_1)\n",
    "model_2.load_state_dict(sd_2)"
   ]
  },
  {
   "cell_type": "code",
   "execution_count": null,
   "metadata": {},
   "outputs": [],
   "source": [
    "sd_2_wm, _ = weight_matching(config.model, sd_1, sd_2, device=device)\n",
    "model_2_wm = load_model(config).to(device)\n",
    "model_2_wm.load_state_dict(sd_2_wm)\n",
    "\n",
    "sd_wm_mid = interpolate_state_dicts(sd_1, sd_2_wm, 0.5)\n",
    "model_wm_mid = load_model(config).to(device)\n",
    "model_wm_mid.load_state_dict(sd_wm_mid)\n",
    "\n",
    "model_wm_mid_repaired = repair(trainloader, [model_1, model_2_wm], model_wm_mid, device, name=config.model)\n",
    "model_wm_mid_rescaled = repair(trainloader, [model_1, model_2_wm], model_wm_mid, device, variant='rescale', name=config.model)\n",
    "model_wm_mid_reshifted = repair(trainloader, [model_1, model_2_wm], model_wm_mid, device, variant='reshift', name=config.model)\n",
    "model_wm_mid_rescaled_ave = repair(trainloader, [model_1, model_2_wm], model_wm_mid, device, variant='rescale', average=True, name=config.model)\n",
    "\n",
    "\n",
    "test_loss_wm_mid, test_acc_wm_mid, _, _ = validate(testloader, model_wm_mid, criterion, device, config)\n",
    "test_loss_wm_mid_repaired, test_acc_wm_mid_repaired, _, _ = validate(testloader, model_wm_mid_repaired, criterion, device, config)\n",
    "test_loss_wm_mid_rescaled, test_acc_wm_mid_rescaled, _, _ = validate(testloader, model_wm_mid_rescaled, criterion, device, config)\n",
    "test_loss_wm_mid_reshifted, test_acc_wm_mid_reshifted, _, _ = validate(testloader, model_wm_mid_reshifted, criterion, device, config)\n",
    "test_loss_wm_mid_rescaled_ave, test_acc_wm_mid_rescaled_ave, _, _ = validate(testloader, model_wm_mid_rescaled_ave, criterion, device, config)"
   ]
  },
  {
   "cell_type": "code",
   "execution_count": 14,
   "metadata": {},
   "outputs": [],
   "source": [
    "def reset_single_bn_stats(model, device, bn_loader, layer_name, batch_num=False):\n",
    "    model.train()\n",
    "    for name, m in model.named_modules():\n",
    "        if name == layer_name:\n",
    "            bn_calibration_init(m)\n",
    "            continue\n",
    "        m.training = False\n",
    "    \n",
    "    with torch.no_grad():\n",
    "        for id, (data, _) in enumerate(bn_loader):\n",
    "            if batch_num and id == batch_num:\n",
    "                break\n",
    "            data = data.to(device)\n",
    "            model(data)\n",
    "    model.eval()\n",
    "\n",
    "def default_bn_stats(model):\n",
    "    for m in model.modules():\n",
    "        bn_calibration_init(m)"
   ]
  },
  {
   "cell_type": "code",
   "execution_count": 15,
   "metadata": {},
   "outputs": [],
   "source": [
    "model_wm_mid_sequential_repaired = deepcopy(model_wm_mid_repaired)\n",
    "model_wm_mid_sequential_rescaled = deepcopy(model_wm_mid_rescaled)\n",
    "\n",
    "reset_bn_stats(model_wm_mid_repaired, device, trainloader)\n",
    "reset_bn_stats(model_wm_mid_rescaled, device, trainloader)\n",
    "\n",
    "reset_layer_s = []\n",
    "for name, m in model_wm_mid_sequential_repaired.named_modules():\n",
    "    if hasattr(m, 'track_running_stats'):\n",
    "        reset_layer_s.append(name)\n",
    "\n",
    "for name in reset_layer_s:\n",
    "    reset_single_bn_stats(model_wm_mid_sequential_repaired, device, trainloader, name, 100)\n",
    "    reset_single_bn_stats(model_wm_mid_sequential_rescaled, device, trainloader, name, 100)"
   ]
  },
  {
   "cell_type": "code",
   "execution_count": null,
   "metadata": {},
   "outputs": [],
   "source": [
    "test_loss_wm_mid_seq_repair, test_acc_wm_mid_seq_repair, _, _ = validate(testloader, model_wm_mid_sequential_repaired, criterion, device, config)\n",
    "test_loss_wm_mid_seq_rescale, test_acc_wm_mid_seq_rescale, _, _ = validate(testloader, model_wm_mid_sequential_rescaled, criterion, device, config)"
   ]
  },
  {
   "cell_type": "code",
   "execution_count": 17,
   "metadata": {},
   "outputs": [
    {
     "name": "stdout",
     "output_type": "stream",
     "text": [
      "Test Accuracy:\n",
      "Original: 12.29%\n",
      "REPAIR: 67.43%\n",
      "RESCALE: 82.67%\n",
      "RESHIFT: 10.00%\n",
      "RESCALE (average): 76.51%\n",
      "SEQUENTIAL REPAIR: 76.53%\n",
      "SEQUENTIAL RESCALE: 82.64%\n"
     ]
    }
   ],
   "source": [
    "print('Test Accuracy:')\n",
    "print(f'Original: {test_acc_wm_mid:.2f}%')\n",
    "print(f'REPAIR: {test_acc_wm_mid_repaired:.2f}%')\n",
    "print(f'RESCALE: {test_acc_wm_mid_rescaled:.2f}%')\n",
    "print(f'RESHIFT: {test_acc_wm_mid_reshifted:.2f}%')\n",
    "print(f'RESCALE (average): {test_acc_wm_mid_rescaled_ave:.2f}%')\n",
    "print(f'SEQUENTIAL REPAIR: {test_acc_wm_mid_seq_repair:.2f}%')\n",
    "print(f'SEQUENTIAL RESCALE: {test_acc_wm_mid_seq_rescale:.2f}%')"
   ]
  },
  {
   "cell_type": "markdown",
   "metadata": {},
   "source": [
    "Data-independent variant"
   ]
  },
  {
   "cell_type": "code",
   "execution_count": 21,
   "metadata": {},
   "outputs": [],
   "source": [
    "config.model = 'cifar_vgg16_bn'"
   ]
  },
  {
   "cell_type": "code",
   "execution_count": 22,
   "metadata": {},
   "outputs": [
    {
     "data": {
      "text/plain": [
       "<All keys matched successfully>"
      ]
     },
     "execution_count": 22,
     "metadata": {},
     "output_type": "execute_result"
    }
   ],
   "source": [
    "model_1, model_2 = load_model(config).to(device), load_model(config).to(device)\n",
    "\n",
    "sd_1 = torch.load(f'../../Linear_Mode_Connectivity/same_init_ex/{config.dataset}/{config.model}/diff_init/seed_10/model_1_160.pt')\n",
    "sd_2 = torch.load(f'../../Linear_Mode_Connectivity/same_init_ex/{config.dataset}/{config.model}/diff_init/seed_10/model_2_160.pt')\n",
    "\n",
    "model_1.load_state_dict(sd_1)\n",
    "model_2.load_state_dict(sd_2)"
   ]
  },
  {
   "cell_type": "code",
   "execution_count": null,
   "metadata": {},
   "outputs": [],
   "source": [
    "sd_2_wm, _ = weight_matching(config.model, sd_1, sd_2, device=device)\n",
    "model_2_wm = load_model(config).to(device)\n",
    "model_2_wm.load_state_dict(sd_2_wm)"
   ]
  },
  {
   "cell_type": "code",
   "execution_count": 24,
   "metadata": {},
   "outputs": [
    {
     "name": "stderr",
     "output_type": "stream",
     "text": [
      "\u001b[32m[2024-01-29 16:33:53]\u001b[0m (20320) \u001b[1;30m{utils.py:69}INFO\u001b[0m - Test: [ 1/40]\tTime  0.034 ( 0.034)\tLoss 4.7535e-01 (4.7535e-01)\tAcc@1  88.28 ( 88.28)\tAcc@5 100.00 (100.00)\n",
      "\u001b[32m[2024-01-29 16:33:55]\u001b[0m (20320) \u001b[1;30m{utils.py:74}INFO\u001b[0m -  *   Acc@1 87.900 Acc@5 99.400\n"
     ]
    }
   ],
   "source": [
    "sd_wm_mid = interpolate_state_dicts(sd_1, sd_2_wm, 0.5)\n",
    "model_wm_mid = load_model(config).to(device)\n",
    "model_wm_mid.load_state_dict(sd_wm_mid)\n",
    "reset_bn_stats(model_wm_mid, device, trainloader)\n",
    "test_loss_reset, test_acc_reset, _, _ = validate(testloader, model_wm_mid, criterion, device, config)"
   ]
  },
  {
   "cell_type": "code",
   "execution_count": 25,
   "metadata": {},
   "outputs": [],
   "source": [
    "def validate_train_mode(val_loader, model, criterion, device):\n",
    "    for m in model.modules():\n",
    "        bn_calibration_init(m)\n",
    "    model.train()\n",
    "\n",
    "    total = 0\n",
    "    correct = 0\n",
    "    total_loss = 0\n",
    "    with torch.no_grad():\n",
    "        for i, (data, target) in enumerate(val_loader):\n",
    "            data = data.to(device)\n",
    "            target = target.to(device)\n",
    "\n",
    "            # compute output\n",
    "            output = model(data)\n",
    "            loss = criterion(output, target)\n",
    "            total_loss += loss.item()\n",
    "            correct += torch.sum(output.argmax(dim=1) == target).item()\n",
    "            total += len(data)\n",
    "    loss_avg = total_loss / len(val_loader)\n",
    "    acc = correct / total\n",
    "    return loss_avg, acc"
   ]
  },
  {
   "cell_type": "code",
   "execution_count": 27,
   "metadata": {},
   "outputs": [],
   "source": [
    "sd_wm_mid = interpolate_state_dicts(sd_1, sd_2_wm, 0.5)\n",
    "model_wm_mid.load_state_dict(sd_wm_mid)\n",
    "test_loss_reset_ind, test_acc_reset_ind = validate_train_mode(testloader, model_wm_mid, criterion, device)"
   ]
  },
  {
   "cell_type": "code",
   "execution_count": 33,
   "metadata": {},
   "outputs": [
    {
     "name": "stdout",
     "output_type": "stream",
     "text": [
      "Test Accuracy:\n",
      "Original RESET: 87.90%\n",
      "Data-independent RESET: 86.37%\n"
     ]
    }
   ],
   "source": [
    "print('Test Accuracy:')\n",
    "print(f'Original RESET: {test_acc_reset:.2f}%')\n",
    "print(f'Data-independent RESET: {test_acc_reset_ind*100:.2f}%')"
   ]
  }
 ],
 "metadata": {
  "kernelspec": {
   "display_name": "base",
   "language": "python",
   "name": "python3"
  },
  "language_info": {
   "codemirror_mode": {
    "name": "ipython",
    "version": 3
   },
   "file_extension": ".py",
   "mimetype": "text/x-python",
   "name": "python",
   "nbconvert_exporter": "python",
   "pygments_lexer": "ipython3",
   "version": "3.9.13"
  }
 },
 "nbformat": 4,
 "nbformat_minor": 2
}
